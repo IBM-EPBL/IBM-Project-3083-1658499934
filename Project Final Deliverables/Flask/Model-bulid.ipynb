{
 "cells": [
  {
   "cell_type": "code",
   "execution_count": 1,
   "id": "75f7655d",
   "metadata": {},
   "outputs": [],
   "source": [
    "import pandas as pd\n",
    "import numpy as np\n",
    "import matplotlib as plt\n",
    "from sklearn.preprocessing import LabelEncoder\n",
    "import pickle"
   ]
  },
  {
   "cell_type": "code",
   "execution_count": 2,
   "id": "fc87f672",
   "metadata": {},
   "outputs": [],
   "source": [
    "df=pd.read_csv(r\"autos.csv\",header=0,sep=',',encoding='Latin1',)"
   ]
  },
  {
   "cell_type": "code",
   "execution_count": 3,
   "id": "2fd4f514",
   "metadata": {},
   "outputs": [
    {
     "name": "stderr",
     "output_type": "stream",
     "text": [
      "C:\\Users\\GANESH\\AppData\\Local\\Temp\\ipykernel_32536\\3958108311.py:2: FutureWarning: In a future version of pandas all arguments of DataFrame.drop except for the argument 'labels' will be keyword-only.\n",
      "  df=df.drop( 'seller', 1)\n",
      "C:\\Users\\GANESH\\AppData\\Local\\Temp\\ipykernel_32536\\3958108311.py:4: FutureWarning: In a future version of pandas all arguments of DataFrame.drop except for the argument 'labels' will be keyword-only.\n",
      "  df=df.drop( 'offerType', 1)\n"
     ]
    }
   ],
   "source": [
    "df[df.seller != 'gewerblich']\n",
    "df=df.drop( 'seller', 1)\n",
    "df[df.offerType != 'Gesuch']\n",
    "df=df.drop( 'offerType', 1)"
   ]
  },
  {
   "cell_type": "code",
   "execution_count": 4,
   "id": "0f33da81",
   "metadata": {},
   "outputs": [],
   "source": [
    "df = df[ (df.powerPS > 50) & (df.powerPS < 900) ]\n",
    "df = df[ (df.yearOfRegistration >= 1950) & (df.yearOfRegistration < 2017)]"
   ]
  },
  {
   "cell_type": "code",
   "execution_count": 5,
   "id": "6ff02bbe",
   "metadata": {},
   "outputs": [],
   "source": [
    "df.drop(['name','abtest','dateCrawled','nrOfPictures','lastSeen','postalCode','dateCreated'],axis='columns',inplace=True)"
   ]
  },
  {
   "cell_type": "code",
   "execution_count": 6,
   "id": "46fc1b7c",
   "metadata": {},
   "outputs": [],
   "source": [
    "new_df = df.copy()\n",
    "new_df = new_df.drop_duplicates(['price','vehicleType','yearOfRegistration','gearbox','powerPS','model','kilometer','monthOfRegistration','fuelType','notRepairedDamage'])"
   ]
  },
  {
   "cell_type": "code",
   "execution_count": 7,
   "id": "61436436",
   "metadata": {},
   "outputs": [],
   "source": [
    "new_df.gearbox.replace(('manuell','automatik'),('manual','automatic'),inplace=True)\n",
    "new_df.fuelType.replace(('benzin','andere','elektro'),('petrol','others','electirc'),inplace=True)\n",
    "new_df.vehicleType.replace(('kleinwagen','cabrio','kombi','andere'),('small car','convertible','combination','others'),inplace=True)\n",
    "new_df.notRepairedDamage.replace(('ja','nein'),('Yes','No'),inplace=True)"
   ]
  },
  {
   "cell_type": "code",
   "execution_count": 8,
   "id": "e4c1c27e",
   "metadata": {},
   "outputs": [],
   "source": [
    "new_df = new_df[(new_df.price >= 100) & (new_df.price <= 150000)]"
   ]
  },
  {
   "cell_type": "code",
   "execution_count": 9,
   "id": "d7ad175e",
   "metadata": {},
   "outputs": [],
   "source": [
    "new_df['notRepairedDamage'].fillna(value='not-declared',inplace=True)\n",
    "new_df['fuelType'].fillna(value='not-declared',inplace=True)\n",
    "new_df['gearbox'].fillna(value='not-declared',inplace=True)\n",
    "new_df['vehicleType'].fillna(value='not-declared',inplace=True)\n",
    "new_df['model'].fillna(value='not-declared',inplace=True)"
   ]
  },
  {
   "cell_type": "code",
   "execution_count": 10,
   "id": "b82d0612",
   "metadata": {},
   "outputs": [],
   "source": [
    "new_df.to_csv(\"autos_preprocessed.csv\")\n",
    "\n",
    "#label encoding the categorical data\n",
    "labels = ['gearbox','notRepairedDamage','model','brand','fuelType','vehicleType']"
   ]
  },
  {
   "cell_type": "code",
   "execution_count": 11,
   "id": "0e5a14f2",
   "metadata": {},
   "outputs": [
    {
     "name": "stdout",
     "output_type": "stream",
     "text": [
      "gearbox ; LabelEncoder()\n",
      "notRepairedDamage ; LabelEncoder()\n",
      "model ; LabelEncoder()\n",
      "brand ; LabelEncoder()\n",
      "fuelType ; LabelEncoder()\n",
      "vehicleType ; LabelEncoder()\n"
     ]
    }
   ],
   "source": [
    "mapper = {}\n",
    "for i in labels:\n",
    "\tmapper[i] = LabelEncoder()\n",
    "\tmapper[i].fit(new_df[i])\n",
    "\ttr = mapper[i].transform(new_df[i])\n",
    "\tnp.save(str('classes'+i+'.npy'),mapper[i].classes_)\n",
    "\tprint(i,\";\",mapper[i])\n",
    "\tnew_df.loc[:,i+'_labels'] = pd.Series(tr,index = new_df.index)\n",
    "labeled = new_df[ [ 'price' , 'yearOfRegistration','powerPS','kilometer','monthOfRegistration'] + [x+\"_labels\" for x in labels]]"
   ]
  },
  {
   "cell_type": "code",
   "execution_count": 12,
   "id": "a9b7e22d",
   "metadata": {},
   "outputs": [
    {
     "name": "stdout",
     "output_type": "stream",
     "text": [
      "Index(['price', 'yearOfRegistration', 'powerPS', 'kilometer',\n",
      "       'monthOfRegistration', 'gearbox_labels', 'notRepairedDamage_labels',\n",
      "       'model_labels', 'brand_labels', 'fuelType_labels',\n",
      "       'vehicleType_labels'],\n",
      "      dtype='object')\n"
     ]
    }
   ],
   "source": [
    "print(labeled.columns)"
   ]
  },
  {
   "cell_type": "code",
   "execution_count": 13,
   "id": "cef04c58",
   "metadata": {},
   "outputs": [
    {
     "name": "stdout",
     "output_type": "stream",
     "text": [
      "Index(['price', 'yearOfRegistration', 'powerPS', 'kilometer',\n",
      "       'monthOfRegistration', 'gearbox_labels', 'notRepairedDamage_labels',\n",
      "       'model_labels', 'brand_labels', 'fuelType_labels',\n",
      "       'vehicleType_labels'],\n",
      "      dtype='object')\n"
     ]
    }
   ],
   "source": [
    "print(labeled.columns)"
   ]
  },
  {
   "cell_type": "code",
   "execution_count": 14,
   "id": "394b4804",
   "metadata": {},
   "outputs": [],
   "source": [
    "Y = labeled.iloc[:,0].values\n",
    "X = labeled.iloc[:,1:].values"
   ]
  },
  {
   "cell_type": "code",
   "execution_count": 15,
   "id": "3519b283",
   "metadata": {},
   "outputs": [],
   "source": [
    "Y = Y.reshape(-1,1)\n",
    "from sklearn.model_selection import cross_val_score , train_test_split\n",
    "X_train,X_test,Y_train,Y_test = train_test_split(X,Y,test_size=0.3,random_state=3)"
   ]
  },
  {
   "cell_type": "code",
   "execution_count": 16,
   "id": "5ea9880f",
   "metadata": {},
   "outputs": [
    {
     "data": {
      "text/plain": [
       "RandomForestRegressor(max_depth=10, n_estimators=1000, random_state=34)"
      ]
     },
     "execution_count": 16,
     "metadata": {},
     "output_type": "execute_result"
    }
   ],
   "source": [
    "from sklearn.ensemble import RandomForestRegressor\n",
    "from sklearn.metrics import r2_score\n",
    "regressor = RandomForestRegressor(n_estimators = 1000,max_depth=10,random_state=34)\n",
    "regressor.fit(X_train,np.ravel(Y_train,order='C'))"
   ]
  },
  {
   "cell_type": "code",
   "execution_count": 17,
   "id": "e7a3a120",
   "metadata": {},
   "outputs": [
    {
     "name": "stdout",
     "output_type": "stream",
     "text": [
      "0.834527626497731\n"
     ]
    }
   ],
   "source": [
    "y_pred = regressor.predict(X_test)\n",
    "print(r2_score(Y_test,y_pred))"
   ]
  },
  {
   "cell_type": "code",
   "execution_count": 18,
   "id": "850e30d7",
   "metadata": {},
   "outputs": [],
   "source": [
    "filename = 'resale_model.sav'\n",
    "pickle.dump(regressor,open(filename,'wb'))"
   ]
  },
  {
   "cell_type": "code",
   "execution_count": 19,
   "id": "993731f1",
   "metadata": {
    "scrolled": true
   },
   "outputs": [
    {
     "name": "stdout",
     "output_type": "stream",
     "text": [
      "Defaulting to user installation because normal site-packages is not writeable\n",
      "Requirement already satisfied: ibm-watson-machine-learning in c:\\users\\ganesh\\appdata\\roaming\\python\\python39\\site-packages (1.0.257)\n",
      "Requirement already satisfied: importlib-metadata in c:\\programdata\\anaconda3\\lib\\site-packages (from ibm-watson-machine-learning) (4.11.3)\n",
      "Requirement already satisfied: ibm-cos-sdk==2.11.* in c:\\users\\ganesh\\appdata\\roaming\\python\\python39\\site-packages (from ibm-watson-machine-learning) (2.11.0)\n",
      "Requirement already satisfied: packaging in c:\\programdata\\anaconda3\\lib\\site-packages (from ibm-watson-machine-learning) (21.3)\n",
      "Requirement already satisfied: urllib3 in c:\\programdata\\anaconda3\\lib\\site-packages (from ibm-watson-machine-learning) (1.26.9)\n",
      "Requirement already satisfied: tabulate in c:\\programdata\\anaconda3\\lib\\site-packages (from ibm-watson-machine-learning) (0.8.9)\n",
      "Requirement already satisfied: lomond in c:\\users\\ganesh\\appdata\\roaming\\python\\python39\\site-packages (from ibm-watson-machine-learning) (0.3.3)\n",
      "Requirement already satisfied: pandas<1.5.0,>=0.24.2 in c:\\programdata\\anaconda3\\lib\\site-packages (from ibm-watson-machine-learning) (1.4.2)\n",
      "Requirement already satisfied: certifi in c:\\programdata\\anaconda3\\lib\\site-packages (from ibm-watson-machine-learning) (2021.10.8)\n",
      "Requirement already satisfied: requests in c:\\programdata\\anaconda3\\lib\\site-packages (from ibm-watson-machine-learning) (2.27.1)\n",
      "Requirement already satisfied: ibm-cos-sdk-s3transfer==2.11.0 in c:\\users\\ganesh\\appdata\\roaming\\python\\python39\\site-packages (from ibm-cos-sdk==2.11.*->ibm-watson-machine-learning) (2.11.0)\n",
      "Requirement already satisfied: ibm-cos-sdk-core==2.11.0 in c:\\users\\ganesh\\appdata\\roaming\\python\\python39\\site-packages (from ibm-cos-sdk==2.11.*->ibm-watson-machine-learning) (2.11.0)\n",
      "Requirement already satisfied: jmespath<1.0.0,>=0.7.1 in c:\\programdata\\anaconda3\\lib\\site-packages (from ibm-cos-sdk==2.11.*->ibm-watson-machine-learning) (0.10.0)\n",
      "Requirement already satisfied: python-dateutil<3.0.0,>=2.1 in c:\\programdata\\anaconda3\\lib\\site-packages (from ibm-cos-sdk-core==2.11.0->ibm-cos-sdk==2.11.*->ibm-watson-machine-learning) (2.8.2)\n",
      "Requirement already satisfied: pytz>=2020.1 in c:\\programdata\\anaconda3\\lib\\site-packages (from pandas<1.5.0,>=0.24.2->ibm-watson-machine-learning) (2021.3)\n",
      "Requirement already satisfied: numpy>=1.18.5 in c:\\programdata\\anaconda3\\lib\\site-packages (from pandas<1.5.0,>=0.24.2->ibm-watson-machine-learning) (1.21.5)\n",
      "Requirement already satisfied: six>=1.5 in c:\\programdata\\anaconda3\\lib\\site-packages (from python-dateutil<3.0.0,>=2.1->ibm-cos-sdk-core==2.11.0->ibm-cos-sdk==2.11.*->ibm-watson-machine-learning) (1.16.0)\n",
      "Requirement already satisfied: charset-normalizer~=2.0.0 in c:\\programdata\\anaconda3\\lib\\site-packages (from requests->ibm-watson-machine-learning) (2.0.4)\n",
      "Requirement already satisfied: idna<4,>=2.5 in c:\\programdata\\anaconda3\\lib\\site-packages (from requests->ibm-watson-machine-learning) (3.3)\n",
      "Requirement already satisfied: zipp>=0.5 in c:\\programdata\\anaconda3\\lib\\site-packages (from importlib-metadata->ibm-watson-machine-learning) (3.7.0)\n",
      "Requirement already satisfied: pyparsing!=3.0.5,>=2.0.2 in c:\\programdata\\anaconda3\\lib\\site-packages (from packaging->ibm-watson-machine-learning) (3.0.4)\n"
     ]
    }
   ],
   "source": [
    "!pip install -U ibm-watson-machine-learning"
   ]
  },
  {
   "cell_type": "code",
   "execution_count": 20,
   "id": "e3d79dc7",
   "metadata": {},
   "outputs": [],
   "source": [
    "from ibm_watson_machine_learning import APIClient"
   ]
  },
  {
   "cell_type": "code",
   "execution_count": 21,
   "id": "dc3cd5a5",
   "metadata": {},
   "outputs": [],
   "source": [
    "wml_credentials = {\n",
    "    \"apikey\":\"y9fOFST6bMUm-ugNLk5iQoRH9dK4auxmxI6Wj61jiF5R\",\n",
    "    \"url\":\"https://us-south.ml.cloud.ibm.com\"\n",
    "}"
   ]
  },
  {
   "cell_type": "code",
   "execution_count": 22,
   "id": "73c285f5",
   "metadata": {},
   "outputs": [
    {
     "name": "stdout",
     "output_type": "stream",
     "text": [
      "Note: 'limit' is not provided. Only first 50 records will be displayed if the number of records exceed 50\n",
      "------------------------------------  -----  ------------------------\n",
      "ID                                    NAME   CREATED\n",
      "7dae8252-921f-4da4-9086-60d2b0466f5e  Model  2022-11-17T06:23:23.016Z\n",
      "------------------------------------  -----  ------------------------\n"
     ]
    }
   ],
   "source": [
    "client = APIClient(wml_credentials)\n",
    "client.spaces.list()"
   ]
  },
  {
   "cell_type": "code",
   "execution_count": 23,
   "id": "25263dfa",
   "metadata": {},
   "outputs": [],
   "source": [
    "SPACE_ID=\"7dae8252-921f-4da4-9086-60d2b0466f5e\""
   ]
  },
  {
   "cell_type": "code",
   "execution_count": 24,
   "id": "a94ea6e1",
   "metadata": {},
   "outputs": [
    {
     "data": {
      "text/plain": [
       "'SUCCESS'"
      ]
     },
     "execution_count": 24,
     "metadata": {},
     "output_type": "execute_result"
    }
   ],
   "source": [
    "client.set.default_space(SPACE_ID)"
   ]
  },
  {
   "cell_type": "code",
   "execution_count": 25,
   "id": "f3276077",
   "metadata": {},
   "outputs": [
    {
     "name": "stdout",
     "output_type": "stream",
     "text": [
      "-----------------------------  ------------------------------------  ----\n",
      "NAME                           ASSET_ID                              TYPE\n",
      "default_py3.6                  0062b8c9-8b7d-44a0-a9b9-46c416adcbd9  base\n",
      "kernel-spark3.2-scala2.12      020d69ce-7ac1-5e68-ac1a-31189867356a  base\n",
      "pytorch-onnx_1.3-py3.7-edt     069ea134-3346-5748-b513-49120e15d288  base\n",
      "scikit-learn_0.20-py3.6        09c5a1d0-9c1e-4473-a344-eb7b665ff687  base\n",
      "spark-mllib_3.0-scala_2.12     09f4cff0-90a7-5899-b9ed-1ef348aebdee  base\n",
      "pytorch-onnx_rt22.1-py3.9      0b848dd4-e681-5599-be41-b5f6fccc6471  base\n",
      "ai-function_0.1-py3.6          0cdb0f1e-5376-4f4d-92dd-da3b69aa9bda  base\n",
      "shiny-r3.6                     0e6e79df-875e-4f24-8ae9-62dcc2148306  base\n",
      "tensorflow_2.4-py3.7-horovod   1092590a-307d-563d-9b62-4eb7d64b3f22  base\n",
      "pytorch_1.1-py3.6              10ac12d6-6b30-4ccd-8392-3e922c096a92  base\n",
      "tensorflow_1.15-py3.6-ddl      111e41b3-de2d-5422-a4d6-bf776828c4b7  base\n",
      "autoai-kb_rt22.2-py3.10        125b6d9a-5b1f-5e8d-972a-b251688ccf40  base\n",
      "runtime-22.1-py3.9             12b83a17-24d8-5082-900f-0ab31fbfd3cb  base\n",
      "scikit-learn_0.22-py3.6        154010fa-5b3b-4ac1-82af-4d5ee5abbc85  base\n",
      "default_r3.6                   1b70aec3-ab34-4b87-8aa0-a4a3c8296a36  base\n",
      "pytorch-onnx_1.3-py3.6         1bc6029a-cc97-56da-b8e0-39c3880dbbe7  base\n",
      "kernel-spark3.3-r3.6           1c9e5454-f216-59dd-a20e-474a5cdf5988  base\n",
      "pytorch-onnx_rt22.1-py3.9-edt  1d362186-7ad5-5b59-8b6c-9d0880bde37f  base\n",
      "tensorflow_2.1-py3.6           1eb25b84-d6ed-5dde-b6a5-3fbdf1665666  base\n",
      "spark-mllib_3.2                20047f72-0a98-58c7-9ff5-a77b012eb8f5  base\n",
      "tensorflow_2.4-py3.8-horovod   217c16f6-178f-56bf-824a-b19f20564c49  base\n",
      "runtime-22.1-py3.9-cuda        26215f05-08c3-5a41-a1b0-da66306ce658  base\n",
      "do_py3.8                       295addb5-9ef9-547e-9bf4-92ae3563e720  base\n",
      "autoai-ts_3.8-py3.8            2aa0c932-798f-5ae9-abd6-15e0c2402fb5  base\n",
      "tensorflow_1.15-py3.6          2b73a275-7cbf-420b-a912-eae7f436e0bc  base\n",
      "kernel-spark3.3-py3.9          2b7961e2-e3b1-5a8c-a491-482c8368839a  base\n",
      "pytorch_1.2-py3.6              2c8ef57d-2687-4b7d-acce-01f94976dac1  base\n",
      "spark-mllib_2.3                2e51f700-bca0-4b0d-88dc-5c6791338875  base\n",
      "pytorch-onnx_1.1-py3.6-edt     32983cea-3f32-4400-8965-dde874a8d67e  base\n",
      "spark-mllib_3.0-py37           36507ebe-8770-55ba-ab2a-eafe787600e9  base\n",
      "spark-mllib_2.4                390d21f8-e58b-4fac-9c55-d7ceda621326  base\n",
      "autoai-ts_rt22.2-py3.10        396b2e83-0953-5b86-9a55-7ce1628a406f  base\n",
      "xgboost_0.82-py3.6             39e31acd-5f30-41dc-ae44-60233c80306e  base\n",
      "pytorch-onnx_1.2-py3.6-edt     40589d0e-7019-4e28-8daa-fb03b6f4fe12  base\n",
      "pytorch-onnx_rt22.2-py3.10     40e73f55-783a-5535-b3fa-0c8b94291431  base\n",
      "default_r36py38                41c247d3-45f8-5a71-b065-8580229facf0  base\n",
      "autoai-ts_rt22.1-py3.9         4269d26e-07ba-5d40-8f66-2d495b0c71f7  base\n",
      "autoai-obm_3.0                 42b92e18-d9ab-567f-988a-4240ba1ed5f7  base\n",
      "pmml-3.0_4.3                   493bcb95-16f1-5bc5-bee8-81b8af80e9c7  base\n",
      "spark-mllib_2.4-r_3.6          49403dff-92e9-4c87-a3d7-a42d0021c095  base\n",
      "xgboost_0.90-py3.6             4ff8d6c2-1343-4c18-85e1-689c965304d3  base\n",
      "pytorch-onnx_1.1-py3.6         50f95b2a-bc16-43bb-bc94-b0bed208c60b  base\n",
      "autoai-ts_3.9-py3.8            52c57136-80fa-572e-8728-a5e7cbb42cde  base\n",
      "spark-mllib_2.4-scala_2.11     55a70f99-7320-4be5-9fb9-9edb5a443af5  base\n",
      "spark-mllib_3.0                5c1b0ca2-4977-5c2e-9439-ffd44ea8ffe9  base\n",
      "autoai-obm_2.0                 5c2e37fa-80b8-5e77-840f-d912469614ee  base\n",
      "spss-modeler_18.1              5c3cad7e-507f-4b2a-a9a3-ab53a21dee8b  base\n",
      "cuda-py3.8                     5d3232bf-c86b-5df4-a2cd-7bb870a1cd4e  base\n",
      "runtime-22.2-py3.10-xc         5e8cddff-db4a-5a6a-b8aa-2d4af9864dab  base\n",
      "autoai-kb_3.1-py3.7            632d4b22-10aa-5180-88f0-f52dfb6444d7  base\n",
      "-----------------------------  ------------------------------------  ----\n",
      "Note: Only first 50 records were displayed. To display more use 'limit' parameter.\n"
     ]
    }
   ],
   "source": [
    "client.software_specifications.list()"
   ]
  },
  {
   "cell_type": "code",
   "execution_count": 28,
   "id": "47a62126",
   "metadata": {},
   "outputs": [
    {
     "data": {
      "text/plain": [
       "'12b83a17-24d8-5082-900f-0ab31fbfd3cb'"
      ]
     },
     "execution_count": 28,
     "metadata": {},
     "output_type": "execute_result"
    }
   ],
   "source": [
    "software_spec_uid=client.software_specifications.get_uid_by_name(\"runtime-22.1-py3.9\")\n",
    "software_spec_uid"
   ]
  },
  {
   "cell_type": "code",
   "execution_count": 29,
   "id": "14a1164e",
   "metadata": {},
   "outputs": [
    {
     "name": "stdout",
     "output_type": "stream",
     "text": [
      "This method is deprecated, please use get_model_id()\n"
     ]
    },
    {
     "name": "stderr",
     "output_type": "stream",
     "text": [
      "C:\\Users\\GANESH\\AppData\\Roaming\\Python\\Python39\\site-packages\\ibm_watson_machine_learning\\repository.py:1453: UserWarning: This method is deprecated, please use get_model_id()\n",
      "  warn(\"This method is deprecated, please use get_model_id()\")\n"
     ]
    }
   ],
   "source": [
    " model_details=client.repository.store_model(model=regressor,meta_props={\n",
    " client.repository.ModelMetaNames.NAME:\"CRV\",\n",
    " client.repository.ModelMetaNames.TYPE:\"scikit-learn_1.0\",\n",
    " client.repository.ModelMetaNames.SOFTWARE_SPEC_UID:software_spec_uid}\n",
    "                                            \n",
    ")\n",
    "model_id=client.repository.get_model_uid(model_details)"
   ]
  },
  {
   "cell_type": "code",
   "execution_count": 30,
   "id": "f24904d7",
   "metadata": {},
   "outputs": [
    {
     "data": {
      "text/plain": [
       "'0e5be457-c8ac-4d67-b10d-1dbb9311497f'"
      ]
     },
     "execution_count": 30,
     "metadata": {},
     "output_type": "execute_result"
    }
   ],
   "source": [
    "model_id"
   ]
  },
  {
   "cell_type": "code",
   "execution_count": 31,
   "id": "1e1ed3df",
   "metadata": {},
   "outputs": [],
   "source": [
    "Y_pred=regressor.predict(X_test)"
   ]
  },
  {
   "cell_type": "code",
   "execution_count": 34,
   "id": "3d6db644",
   "metadata": {},
   "outputs": [
    {
     "data": {
      "text/plain": [
       "array([9937.11993609, 1157.33268937, 2739.06719477, ..., 2124.91777611,\n",
       "       2955.66758818, 1207.44132337])"
      ]
     },
     "execution_count": 34,
     "metadata": {},
     "output_type": "execute_result"
    }
   ],
   "source": [
    "y_pred"
   ]
  },
  {
   "cell_type": "code",
   "execution_count": null,
   "id": "d7b0b366",
   "metadata": {},
   "outputs": [],
   "source": []
  }
 ],
 "metadata": {
  "kernelspec": {
   "display_name": "Python 3 (ipykernel)",
   "language": "python",
   "name": "python3"
  },
  "language_info": {
   "codemirror_mode": {
    "name": "ipython",
    "version": 3
   },
   "file_extension": ".py",
   "mimetype": "text/x-python",
   "name": "python",
   "nbconvert_exporter": "python",
   "pygments_lexer": "ipython3",
   "version": "3.9.12"
  },
  "vscode": {
   "interpreter": {
    "hash": "5238573367df39f7286bb46f9ff5f08f63a01a80960060ce41e3c79b190280fa"
   }
  }
 },
 "nbformat": 4,
 "nbformat_minor": 5
}
