{
 "cells": [
  {
   "cell_type": "code",
   "execution_count": 1,
   "id": "75f7655d",
   "metadata": {},
   "outputs": [],
   "source": [
    "import pandas as pd\n",
    "import numpy as np\n",
    "import matplotlib as plt\n",
    "from sklearn.preprocessing import LabelEncoder\n",
    "import pickle"
   ]
  },
  {
   "cell_type": "code",
   "execution_count": 2,
   "id": "fc87f672",
   "metadata": {},
   "outputs": [],
   "source": [
    "df=pd.read_csv(r\"autos.csv\",header=0,sep=',',encoding='Latin1',)"
   ]
  },
  {
   "cell_type": "code",
   "execution_count": 3,
   "id": "2fd4f514",
   "metadata": {},
   "outputs": [
    {
     "name": "stderr",
     "output_type": "stream",
     "text": [
      "C:\\Users\\GANESH\\AppData\\Local\\Temp\\ipykernel_29616\\3958108311.py:2: FutureWarning: In a future version of pandas all arguments of DataFrame.drop except for the argument 'labels' will be keyword-only.\n",
      "  df=df.drop( 'seller', 1)\n",
      "C:\\Users\\GANESH\\AppData\\Local\\Temp\\ipykernel_29616\\3958108311.py:4: FutureWarning: In a future version of pandas all arguments of DataFrame.drop except for the argument 'labels' will be keyword-only.\n",
      "  df=df.drop( 'offerType', 1)\n"
     ]
    }
   ],
   "source": [
    "df[df.seller != 'gewerblich']\n",
    "df=df.drop( 'seller', 1)\n",
    "df[df.offerType != 'Gesuch']\n",
    "df=df.drop( 'offerType', 1)"
   ]
  },
  {
   "cell_type": "code",
   "execution_count": 4,
   "id": "0f33da81",
   "metadata": {},
   "outputs": [],
   "source": [
    "df = df[ (df.powerPS > 50) & (df.powerPS < 900) ]\n",
    "df = df[ (df.yearOfRegistration >= 1950) & (df.yearOfRegistration < 2017)]"
   ]
  },
  {
   "cell_type": "code",
   "execution_count": 5,
   "id": "6ff02bbe",
   "metadata": {},
   "outputs": [],
   "source": [
    "df.drop(['name','abtest','dateCrawled','nrOfPictures','lastSeen','postalCode','dateCreated'],axis='columns',inplace=True)"
   ]
  },
  {
   "cell_type": "code",
   "execution_count": 6,
   "id": "46fc1b7c",
   "metadata": {},
   "outputs": [],
   "source": [
    "new_df = df.copy()\n",
    "new_df = new_df.drop_duplicates(['price','vehicleType','yearOfRegistration','gearbox','powerPS','model','kilometer','monthOfRegistration','fuelType','notRepairedDamage'])"
   ]
  },
  {
   "cell_type": "code",
   "execution_count": 7,
   "id": "61436436",
   "metadata": {},
   "outputs": [],
   "source": [
    "new_df.gearbox.replace(('manuell','automatik'),('manual','automatic'),inplace=True)\n",
    "new_df.fuelType.replace(('benzin','andere','elektro'),('petrol','others','electirc'),inplace=True)\n",
    "new_df.vehicleType.replace(('kleinwagen','cabrio','kombi','andere'),('small car','convertible','combination','others'),inplace=True)\n",
    "new_df.notRepairedDamage.replace(('ja','nein'),('Yes','No'),inplace=True)"
   ]
  },
  {
   "cell_type": "code",
   "execution_count": 8,
   "id": "e4c1c27e",
   "metadata": {},
   "outputs": [],
   "source": [
    "new_df = new_df[(new_df.price >= 100) & (new_df.price <= 150000)]"
   ]
  },
  {
   "cell_type": "code",
   "execution_count": 9,
   "id": "d7ad175e",
   "metadata": {},
   "outputs": [],
   "source": [
    "new_df['notRepairedDamage'].fillna(value='not-declared',inplace=True)\n",
    "new_df['fuelType'].fillna(value='not-declared',inplace=True)\n",
    "new_df['gearbox'].fillna(value='not-declared',inplace=True)\n",
    "new_df['vehicleType'].fillna(value='not-declared',inplace=True)\n",
    "new_df['model'].fillna(value='not-declared',inplace=True)"
   ]
  },
  {
   "cell_type": "code",
   "execution_count": 10,
   "id": "b82d0612",
   "metadata": {},
   "outputs": [],
   "source": [
    "new_df.to_csv(\"autos_preprocessed.csv\")\n",
    "\n",
    "#label encoding the categorical data\n",
    "labels = ['gearbox','notRepairedDamage','model','brand','fuelType','vehicleType']"
   ]
  },
  {
   "cell_type": "code",
   "execution_count": 11,
   "id": "0e5a14f2",
   "metadata": {},
   "outputs": [
    {
     "name": "stdout",
     "output_type": "stream",
     "text": [
      "gearbox ; LabelEncoder()\n",
      "notRepairedDamage ; LabelEncoder()\n",
      "model ; LabelEncoder()\n",
      "brand ; LabelEncoder()\n",
      "fuelType ; LabelEncoder()\n",
      "vehicleType ; LabelEncoder()\n"
     ]
    }
   ],
   "source": [
    "mapper = {}\n",
    "for i in labels:\n",
    "\tmapper[i] = LabelEncoder()\n",
    "\tmapper[i].fit(new_df[i])\n",
    "\ttr = mapper[i].transform(new_df[i])\n",
    "\tnp.save(str('classes'+i+'.npy'),mapper[i].classes_)\n",
    "\tprint(i,\";\",mapper[i])\n",
    "\tnew_df.loc[:,i+'_labels'] = pd.Series(tr,index = new_df.index)\n",
    "labeled = new_df[ [ 'price' , 'yearOfRegistration','powerPS','kilometer','monthOfRegistration'] + [x+\"_labels\" for x in labels]]"
   ]
  },
  {
   "cell_type": "code",
   "execution_count": 12,
   "id": "a9b7e22d",
   "metadata": {},
   "outputs": [
    {
     "name": "stdout",
     "output_type": "stream",
     "text": [
      "Index(['price', 'yearOfRegistration', 'powerPS', 'kilometer',\n",
      "       'monthOfRegistration', 'gearbox_labels', 'notRepairedDamage_labels',\n",
      "       'model_labels', 'brand_labels', 'fuelType_labels',\n",
      "       'vehicleType_labels'],\n",
      "      dtype='object')\n"
     ]
    }
   ],
   "source": [
    "print(labeled.columns)"
   ]
  },
  {
   "cell_type": "code",
   "execution_count": 13,
   "id": "cef04c58",
   "metadata": {},
   "outputs": [
    {
     "name": "stdout",
     "output_type": "stream",
     "text": [
      "Index(['price', 'yearOfRegistration', 'powerPS', 'kilometer',\n",
      "       'monthOfRegistration', 'gearbox_labels', 'notRepairedDamage_labels',\n",
      "       'model_labels', 'brand_labels', 'fuelType_labels',\n",
      "       'vehicleType_labels'],\n",
      "      dtype='object')\n"
     ]
    }
   ],
   "source": [
    "print(labeled.columns)"
   ]
  },
  {
   "cell_type": "code",
   "execution_count": 14,
   "id": "394b4804",
   "metadata": {},
   "outputs": [],
   "source": [
    "Y = labeled.iloc[:,0].values\n",
    "X = labeled.iloc[:,1:].values"
   ]
  },
  {
   "cell_type": "code",
   "execution_count": 15,
   "id": "3519b283",
   "metadata": {},
   "outputs": [],
   "source": [
    "Y = Y.reshape(-1,1)\n",
    "from sklearn.model_selection import cross_val_score , train_test_split\n",
    "X_train,X_test,Y_train,Y_test = train_test_split(X,Y,test_size=0.3,random_state=3)"
   ]
  },
  {
   "cell_type": "code",
   "execution_count": 16,
   "id": "5ea9880f",
   "metadata": {},
   "outputs": [],
   "source": [
    "from sklearn.ensemble import RandomForestRegressor\n",
    "from sklearn.metrics import r2_score\n",
    "regressor = RandomForestRegressor(n_estimators = 1000,max_depth=10,random_state=34)"
   ]
  },
  {
   "cell_type": "code",
   "execution_count": null,
   "id": "9e84c06c",
   "metadata": {},
   "outputs": [],
   "source": [
    "regressor.fit(X_train,np.ravel(Y_train,order='C'))"
   ]
  },
  {
   "cell_type": "code",
   "execution_count": null,
   "id": "e7a3a120",
   "metadata": {},
   "outputs": [],
   "source": [
    "y_pred = regressor.predict(X_test)\n",
    "print(r2_score(Y_test,y_pred))"
   ]
  },
  {
   "cell_type": "code",
   "execution_count": null,
   "id": "850e30d7",
   "metadata": {},
   "outputs": [],
   "source": [
    "filename = 'resale_model.sav'\n",
    "pickle.dump(regressor,open(filename,'wb'))"
   ]
  },
  {
   "cell_type": "code",
   "execution_count": null,
   "id": "993731f1",
   "metadata": {},
   "outputs": [],
   "source": [
    "!pip install -U ibm-watson-machine-learning"
   ]
  },
  {
   "cell_type": "code",
   "execution_count": null,
   "id": "2f853eb3",
   "metadata": {},
   "outputs": [],
   "source": []
  },
  {
   "cell_type": "code",
   "execution_count": null,
   "id": "6ee65b12",
   "metadata": {},
   "outputs": [],
   "source": []
  }
 ],
 "metadata": {
  "kernelspec": {
   "display_name": "Python 3 (ipykernel)",
   "language": "python",
   "name": "python3"
  },
  "language_info": {
   "codemirror_mode": {
    "name": "ipython",
    "version": 3
   },
   "file_extension": ".py",
   "mimetype": "text/x-python",
   "name": "python",
   "nbconvert_exporter": "python",
   "pygments_lexer": "ipython3",
   "version": "3.9.12"
  },
  "vscode": {
   "interpreter": {
    "hash": "5238573367df39f7286bb46f9ff5f08f63a01a80960060ce41e3c79b190280fa"
   }
  }
 },
 "nbformat": 4,
 "nbformat_minor": 5
}
