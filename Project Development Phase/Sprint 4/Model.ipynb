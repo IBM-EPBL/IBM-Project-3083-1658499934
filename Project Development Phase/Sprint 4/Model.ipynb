{
 "cells": [
  {
   "cell_type": "code",
   "execution_count": 4,
   "id": "75f7655d",
   "metadata": {},
   "outputs": [],
   "source": [
    "import pandas as pd\n",
    "import numpy as np\n",
    "import matplotlib as plt\n",
    "from sklearn.preprocessing import LabelEncoder\n",
    "import pickle"
   ]
  },
  {
   "cell_type": "code",
   "execution_count": 5,
   "id": "fc87f672",
   "metadata": {},
   "outputs": [],
   "source": [
    "df=pd.read_csv(r\"autos.csv\",header=0,sep=',',encoding='Latin1',)"
   ]
  },
  {
   "cell_type": "code",
   "execution_count": 6,
   "id": "2fd4f514",
   "metadata": {},
   "outputs": [
    {
     "name": "stderr",
     "output_type": "stream",
     "text": [
      "C:\\Users\\GANESH\\AppData\\Local\\Temp\\ipykernel_13952\\3958108311.py:2: FutureWarning: In a future version of pandas all arguments of DataFrame.drop except for the argument 'labels' will be keyword-only.\n",
      "  df=df.drop( 'seller', 1)\n",
      "C:\\Users\\GANESH\\AppData\\Local\\Temp\\ipykernel_13952\\3958108311.py:4: FutureWarning: In a future version of pandas all arguments of DataFrame.drop except for the argument 'labels' will be keyword-only.\n",
      "  df=df.drop( 'offerType', 1)\n"
     ]
    }
   ],
   "source": [
    "df[df.seller != 'gewerblich']\n",
    "df=df.drop( 'seller', 1)\n",
    "df[df.offerType != 'Gesuch']\n",
    "df=df.drop( 'offerType', 1)"
   ]
  },
  {
   "cell_type": "code",
   "execution_count": 7,
   "id": "0f33da81",
   "metadata": {},
   "outputs": [],
   "source": [
    "df = df[ (df.powerPS > 50) & (df.powerPS < 900) ]\n",
    "df = df[ (df.yearOfRegistration >= 1950) & (df.yearOfRegistration < 2017)]"
   ]
  },
  {
   "cell_type": "code",
   "execution_count": 8,
   "id": "6ff02bbe",
   "metadata": {},
   "outputs": [],
   "source": [
    "df.drop(['name','abtest','dateCrawled','nrOfPictures','lastSeen','postalCode','dateCreated'],axis='columns',inplace=True)"
   ]
  },
  {
   "cell_type": "code",
   "execution_count": 9,
   "id": "46fc1b7c",
   "metadata": {},
   "outputs": [],
   "source": [
    "new_df = df.copy()\n",
    "new_df = new_df.drop_duplicates(['price','vehicleType','yearOfRegistration','gearbox','powerPS','model','kilometer','monthOfRegistration','fuelType','notRepairedDamage'])"
   ]
  },
  {
   "cell_type": "code",
   "execution_count": 10,
   "id": "61436436",
   "metadata": {},
   "outputs": [],
   "source": [
    "new_df.gearbox.replace(('manuell','automatik'),('manual','automatic'),inplace=True)\n",
    "new_df.fuelType.replace(('benzin','andere','elektro'),('petrol','others','electirc'),inplace=True)\n",
    "new_df.vehicleType.replace(('kleinwagen','cabrio','kombi','andere'),('small car','convertible','combination','others'),inplace=True)\n",
    "new_df.notRepairedDamage.replace(('ja','nein'),('Yes','No'),inplace=True)"
   ]
  },
  {
   "cell_type": "code",
   "execution_count": 11,
   "id": "e4c1c27e",
   "metadata": {},
   "outputs": [],
   "source": [
    "new_df = new_df[(new_df.price >= 100) & (new_df.price <= 150000)]"
   ]
  },
  {
   "cell_type": "code",
   "execution_count": 12,
   "id": "d7ad175e",
   "metadata": {},
   "outputs": [],
   "source": [
    "new_df['notRepairedDamage'].fillna(value='not-declared',inplace=True)\n",
    "new_df['fuelType'].fillna(value='not-declared',inplace=True)\n",
    "new_df['gearbox'].fillna(value='not-declared',inplace=True)\n",
    "new_df['vehicleType'].fillna(value='not-declared',inplace=True)\n",
    "new_df['model'].fillna(value='not-declared',inplace=True)"
   ]
  },
  {
   "cell_type": "code",
   "execution_count": 13,
   "id": "b82d0612",
   "metadata": {},
   "outputs": [],
   "source": [
    "new_df.to_csv(\"autos_preprocessed.csv\")\n",
    "\n",
    "#label encoding the categorical data\n",
    "labels = ['gearbox','notRepairedDamage','model','brand','fuelType','vehicleType']"
   ]
  },
  {
   "cell_type": "code",
   "execution_count": 14,
   "id": "0e5a14f2",
   "metadata": {},
   "outputs": [
    {
     "name": "stdout",
     "output_type": "stream",
     "text": [
      "gearbox ; LabelEncoder()\n",
      "notRepairedDamage ; LabelEncoder()\n",
      "model ; LabelEncoder()\n",
      "brand ; LabelEncoder()\n",
      "fuelType ; LabelEncoder()\n",
      "vehicleType ; LabelEncoder()\n"
     ]
    }
   ],
   "source": [
    "mapper = {}\n",
    "for i in labels:\n",
    "\tmapper[i] = LabelEncoder()\n",
    "\tmapper[i].fit(new_df[i])\n",
    "\ttr = mapper[i].transform(new_df[i])\n",
    "\tnp.save(str('classes'+i+'.npy'),mapper[i].classes_)\n",
    "\tprint(i,\";\",mapper[i])\n",
    "\tnew_df.loc[:,i+'_labels'] = pd.Series(tr,index = new_df.index)\n",
    "labeled = new_df[ [ 'price' , 'yearOfRegistration','powerPS','kilometer','monthOfRegistration'] + [x+\"_labels\" for x in labels]]"
   ]
  },
  {
   "cell_type": "code",
   "execution_count": 15,
   "id": "a9b7e22d",
   "metadata": {},
   "outputs": [
    {
     "name": "stdout",
     "output_type": "stream",
     "text": [
      "Index(['price', 'yearOfRegistration', 'powerPS', 'kilometer',\n",
      "       'monthOfRegistration', 'gearbox_labels', 'notRepairedDamage_labels',\n",
      "       'model_labels', 'brand_labels', 'fuelType_labels',\n",
      "       'vehicleType_labels'],\n",
      "      dtype='object')\n"
     ]
    }
   ],
   "source": [
    "print(labeled.columns)"
   ]
  },
  {
   "cell_type": "code",
   "execution_count": 16,
   "id": "cef04c58",
   "metadata": {},
   "outputs": [
    {
     "name": "stdout",
     "output_type": "stream",
     "text": [
      "Index(['price', 'yearOfRegistration', 'powerPS', 'kilometer',\n",
      "       'monthOfRegistration', 'gearbox_labels', 'notRepairedDamage_labels',\n",
      "       'model_labels', 'brand_labels', 'fuelType_labels',\n",
      "       'vehicleType_labels'],\n",
      "      dtype='object')\n"
     ]
    }
   ],
   "source": [
    "print(labeled.columns)"
   ]
  },
  {
   "cell_type": "code",
   "execution_count": 17,
   "id": "394b4804",
   "metadata": {},
   "outputs": [],
   "source": [
    "Y = labeled.iloc[:,0].values\n",
    "X = labeled.iloc[:,1:].values"
   ]
  },
  {
   "cell_type": "code",
   "execution_count": 18,
   "id": "3519b283",
   "metadata": {},
   "outputs": [],
   "source": [
    "Y = Y.reshape(-1,1)\n",
    "from sklearn.model_selection import cross_val_score , train_test_split\n",
    "X_train,X_test,Y_train,Y_test = train_test_split(X,Y,test_size=0.3,random_state=3)"
   ]
  },
  {
   "cell_type": "code",
   "execution_count": 19,
   "id": "5ea9880f",
   "metadata": {},
   "outputs": [],
   "source": [
    "from sklearn.ensemble import RandomForestRegressor\n",
    "from sklearn.metrics import r2_score\n",
    "regressor = RandomForestRegressor(n_estimators = 1000,max_depth=10,random_state=34)"
   ]
  },
  {
   "cell_type": "code",
   "execution_count": 22,
   "id": "9e84c06c",
   "metadata": {},
   "outputs": [
    {
     "data": {
      "text/plain": [
       "RandomForestRegressor(max_depth=10, n_estimators=1000, random_state=34)"
      ]
     },
     "execution_count": 22,
     "metadata": {},
     "output_type": "execute_result"
    }
   ],
   "source": [
    "regressor.fit(X_train,np.ravel(Y_train,order='C'))"
   ]
  },
  {
   "cell_type": "code",
   "execution_count": 23,
   "id": "e7a3a120",
   "metadata": {},
   "outputs": [
    {
     "name": "stdout",
     "output_type": "stream",
     "text": [
      "0.834527626497731\n"
     ]
    }
   ],
   "source": [
    "y_pred = regressor.predict(X_test)\n",
    "print(r2_score(Y_test,y_pred))"
   ]
  },
  {
   "cell_type": "code",
   "execution_count": 24,
   "id": "bd514b26",
   "metadata": {},
   "outputs": [
    {
     "name": "stdout",
     "output_type": "stream",
     "text": [
      "Mean Absolute Error: 1635.1608915188156\n",
      "Mean Squared Error: 11837192.971239958\n",
      "Root Mean Squared Error: 3440.5221945570934\n"
     ]
    }
   ],
   "source": [
    "from sklearn import metrics\n",
    "print('Mean Absolute Error:', metrics.mean_absolute_error(Y_test, y_pred))  \n",
    "print('Mean Squared Error:', metrics.mean_squared_error(Y_test, y_pred))  \n",
    "print('Root Mean Squared Error:', np.sqrt(metrics.mean_squared_error(Y_test, y_pred)))"
   ]
  },
  {
   "cell_type": "code",
   "execution_count": 25,
   "id": "51d08f99",
   "metadata": {},
   "outputs": [
    {
     "name": "stdout",
     "output_type": "stream",
     "text": [
      "Parameters currently in use:\n",
      "\n",
      "{'bootstrap': True,\n",
      " 'ccp_alpha': 0.0,\n",
      " 'criterion': 'squared_error',\n",
      " 'max_depth': 10,\n",
      " 'max_features': 'auto',\n",
      " 'max_leaf_nodes': None,\n",
      " 'max_samples': None,\n",
      " 'min_impurity_decrease': 0.0,\n",
      " 'min_samples_leaf': 1,\n",
      " 'min_samples_split': 2,\n",
      " 'min_weight_fraction_leaf': 0.0,\n",
      " 'n_estimators': 1000,\n",
      " 'n_jobs': None,\n",
      " 'oob_score': False,\n",
      " 'random_state': 34,\n",
      " 'verbose': 0,\n",
      " 'warm_start': False}\n"
     ]
    }
   ],
   "source": [
    "from pprint import pprint\n",
    "# Look at parameters used by our current forest\n",
    "print('Parameters currently in use:\\n')\n",
    "pprint(regressor.get_params())"
   ]
  },
  {
   "cell_type": "code",
   "execution_count": 26,
   "id": "bb2fc367",
   "metadata": {},
   "outputs": [
    {
     "name": "stdout",
     "output_type": "stream",
     "text": [
      "{'bootstrap': [True, False],\n",
      " 'max_depth': [10, 20, 30, 40, 50, 60, 70, 80, 90, 100, 110, None],\n",
      " 'max_features': ['auto', 'sqrt'],\n",
      " 'min_samples_leaf': [1, 2, 4],\n",
      " 'min_samples_split': [2, 5, 10],\n",
      " 'n_estimators': [200, 400, 600, 800, 1000, 1200, 1400, 1600, 1800, 2000]}\n"
     ]
    }
   ],
   "source": [
    "from sklearn.model_selection import RandomizedSearchCV\n",
    "# Number of trees in random forest\n",
    "n_estimators = [int(x) for x in np.linspace(start = 200, stop = 2000, num = 10)]\n",
    "# Number of features to consider at every split\n",
    "max_features = ['auto', 'sqrt']\n",
    "# Maximum number of levels in tree\n",
    "max_depth = [int(x) for x in np.linspace(10, 110, num = 11)]\n",
    "max_depth.append(None)\n",
    "# Minimum number of samples required to split a node\n",
    "min_samples_split = [2, 5, 10]\n",
    "# Minimum number of samples required at each leaf node\n",
    "min_samples_leaf = [1, 2, 4]\n",
    "# Method of selecting samples for training each tree\n",
    "bootstrap = [True, False]\n",
    "# Create the random grid\n",
    "random_grid = {'n_estimators': n_estimators,\n",
    "               'max_features': max_features,\n",
    "               'max_depth': max_depth,\n",
    "               'min_samples_split': min_samples_split,\n",
    "               'min_samples_leaf': min_samples_leaf,\n",
    "               'bootstrap': bootstrap}\n",
    "pprint(random_grid)"
   ]
  },
  {
   "cell_type": "code",
   "execution_count": null,
   "id": "8512e09f",
   "metadata": {},
   "outputs": [],
   "source": [
    "# Use the random grid to search for best hyperparameters\n",
    "# First create the base model to tune\n",
    "regressor = RandomForestRegressor()\n",
    "# Random search of parameters, using 3 fold cross validation, \n",
    "# search across 100 different combinations, and use all available cores\n",
    "regressor_random = RandomizedSearchCV(estimator = regressor, param_distributions = random_grid, n_iter = 100, cv = 3, verbose=2, random_state=42, n_jobs = -1)\n",
    "# Fit the random search model\n",
    "regressor_random.fit(X_train, Y_train)\n",
    "regressor_random.best_params_"
   ]
  },
  {
   "cell_type": "code",
   "execution_count": 19,
   "id": "850e30d7",
   "metadata": {},
   "outputs": [],
   "source": [
    "filename = 'resale_model.sav'\n",
    "pickle.dump(regressor,open(filename,'wb'))"
   ]
  },
  {
   "cell_type": "code",
   "execution_count": null,
   "id": "993731f1",
   "metadata": {},
   "outputs": [],
   "source": [
    "\n"
   ]
  }
 ],
 "metadata": {
  "kernelspec": {
   "display_name": "Python 3 (ipykernel)",
   "language": "python",
   "name": "python3"
  },
  "language_info": {
   "codemirror_mode": {
    "name": "ipython",
    "version": 3
   },
   "file_extension": ".py",
   "mimetype": "text/x-python",
   "name": "python",
   "nbconvert_exporter": "python",
   "pygments_lexer": "ipython3",
   "version": "3.9.12"
  },
  "vscode": {
   "interpreter": {
    "hash": "5238573367df39f7286bb46f9ff5f08f63a01a80960060ce41e3c79b190280fa"
   }
  }
 },
 "nbformat": 4,
 "nbformat_minor": 5
}
